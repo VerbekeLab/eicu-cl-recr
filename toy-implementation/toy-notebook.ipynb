{
 "cells": [
  {
   "cell_type": "code",
   "execution_count": 4,
   "metadata": {},
   "outputs": [],
   "source": [
    "#Load dependencies\n",
    "import numpy as np # linear algebra\n",
    "import pandas as pd # data processing, CSV file I/O (e.g. pd.read_csv)\n",
    "import matplotlib.pyplot as plt\n",
    "\n",
    "from sklearn.model_selection import train_test_split\n",
    "\n",
    "import torch\n",
    "import torch.nn as nn\n",
    "import torch.nn.functional as F\n",
    "from torch.utils.data import Dataset, DataLoader\n",
    "\n",
    "import torchvision\n",
    "import torchvision.transforms as transforms\n",
    "from torchvision.utils import make_grid"
   ]
  },
  {
   "cell_type": "code",
   "execution_count": 5,
   "metadata": {},
   "outputs": [
    {
     "name": "stdout",
     "output_type": "stream",
     "text": [
      "Running on: cpu\n"
     ]
    }
   ],
   "source": [
    "#Data path\n",
    "path = '/Volumes/Vincent SSD/KU Leuven/PhD AI-CS/Project Data/MNIST/'\n",
    "\n",
    "\n",
    "#Device\n",
    "device = torch.device('cuda' if torch.cuda.is_available() else 'cpu')\n",
    "print(f'Running on: {device}')\n",
    "\n",
    "#Define dataloader class\n",
    "class MNIST(Dataset):\n",
    "    def __init__(self, X, y=None, transform=None):\n",
    "        self.X = X\n",
    "        self.y = y\n",
    "        self.transform = transform\n",
    "        \n",
    "    def __len__(self):\n",
    "        return len(self.X.index)\n",
    "    \n",
    "    def __getitem__(self, index):\n",
    "        image = self.X.iloc[index, ].values.astype(np.uint8).reshape((28, 28, 1))\n",
    "        \n",
    "        if self.transform is not None:\n",
    "            image = self.transform(image)\n",
    "            \n",
    "        if self.y is not None:\n",
    "            return image, self.y.iloc[index]\n",
    "        else:\n",
    "            return image\n",
    "\n"
   ]
  },
  {
   "cell_type": "code",
   "execution_count": 6,
   "metadata": {},
   "outputs": [
    {
     "name": "stdout",
     "output_type": "stream",
     "text": [
      "(60000, 785)\n",
      "(10000, 785)\n"
     ]
    }
   ],
   "source": [
    "train_df = pd.read_csv(path + 'train.csv')\n",
    "test_df = pd.read_csv(path + 'test.csv')\n",
    "\n",
    "print(train_df.shape)\n",
    "print(test_df.shape)"
   ]
  },
  {
   "cell_type": "code",
   "execution_count": 7,
   "metadata": {},
   "outputs": [
    {
     "name": "stdout",
     "output_type": "stream",
     "text": [
      "train image shape :  (50000, 784)\n",
      "train label shape :  (50000,)\n",
      "valid image shape :  (10000, 784)\n",
      "valid label image :  (10000,)\n",
      "test image shape  :  (10000, 784)\n",
      "test label image :  (10000,)\n"
     ]
    }
   ],
   "source": [
    "X_train, X_valid, y_train, y_valid = \\\n",
    "    train_test_split(train_df.iloc[:, 1:], train_df['label'], test_size=1/6, random_state=42)\n",
    "\n",
    "y_test = test_df.pop('label')\n",
    "X_test = test_df\n",
    "\n",
    "print('train image shape : ', X_train.shape)\n",
    "print('train label shape : ', y_train.shape)\n",
    "print('valid image shape : ', X_valid.shape)\n",
    "print('valid label image : ', y_valid.shape)\n",
    "print('test image shape  : ', X_test.shape)\n",
    "print('test label image : ', y_test.shape)\n",
    "\n",
    "\n"
   ]
  },
  {
   "cell_type": "code",
   "execution_count": 8,
   "metadata": {},
   "outputs": [
    {
     "name": "stdout",
     "output_type": "stream",
     "text": [
      "images shape on PyTroch :  torch.Size([128, 1, 28, 28])\n",
      "labels shape on PyTroch :  torch.Size([128])\n"
     ]
    }
   ],
   "source": [
    "transform=transforms.Compose([\n",
    "    transforms.ToPILImage(),\n",
    "    transforms.RandomRotation(10),\n",
    "    transforms.ToTensor()\n",
    "])\n",
    "\n",
    "train_dataset = MNIST(X=X_train, y=y_train, transform=transform)\n",
    "valid_dataset = MNIST(X=X_valid, y=y_valid, transform=transforms.ToTensor())\n",
    "test_dataset = MNIST(X=X_test, y=y_test, transform=transforms.ToTensor())\n",
    "\n",
    "train_loader = DataLoader(dataset=train_dataset, batch_size=128, shuffle=True)\n",
    "valid_loader = DataLoader(dataset=valid_dataset, batch_size=128, shuffle=False)\n",
    "test_loader = DataLoader(dataset=test_dataset, batch_size=128, shuffle=False)\n",
    "\n",
    "images, labels = next(iter(train_loader))\n",
    "\n",
    "print('images shape on PyTroch : ', images.size())\n",
    "print('labels shape on PyTroch : ', labels.size())\n",
    "\n"
   ]
  },
  {
   "cell_type": "code",
   "execution_count": 9,
   "metadata": {},
   "outputs": [
    {
     "name": "stdout",
     "output_type": "stream",
     "text": [
      "MLP(\n",
      "  (layers): Sequential(\n",
      "    (0): Linear(in_features=784, out_features=200, bias=True)\n",
      "    (1): ReLU()\n",
      "    (2): Linear(in_features=200, out_features=200, bias=True)\n",
      "    (3): ReLU()\n",
      "    (4): Linear(in_features=200, out_features=200, bias=True)\n",
      "    (5): ReLU()\n",
      "    (6): Linear(in_features=200, out_features=10, bias=True)\n",
      "  )\n",
      ")\n"
     ]
    }
   ],
   "source": [
    "# Define model\n",
    "class MLP(nn.Module):\n",
    "    def __init__(self):\n",
    "        super(MLP, self).__init__()\n",
    "        self.layers = nn.Sequential(\n",
    "            nn.Linear(784, 200),\n",
    "            nn.ReLU(),\n",
    "            nn.Linear(200, 200),\n",
    "            nn.ReLU(),\n",
    "            nn.Linear(200, 200),\n",
    "            nn.ReLU(),\n",
    "            nn.Linear(200, 10)\n",
    "        )\n",
    "        \n",
    "    def forward(self, x):\n",
    "        # convert tensor (128, 1, 28, 28) --> (128, 1*28*28)\n",
    "        x = x.view(x.size(0), -1)\n",
    "        x = self.layers(x)\n",
    "        return x\n",
    "\n",
    "model = MLP()\n",
    "print(model)\n",
    "\n",
    "#Define the optimizer\n",
    "optimizer = torch.optim.Adam(model.parameters(), lr=0.001)\n",
    "loss_fn = nn.CrossEntropyLoss()\n",
    "\n",
    "\n"
   ]
  },
  {
   "cell_type": "code",
   "execution_count": 10,
   "metadata": {},
   "outputs": [
    {
     "name": "stdout",
     "output_type": "stream",
     "text": [
      "0 / 50000\n",
      "12800 / 50000\n",
      "25600 / 50000\n",
      "38400 / 50000\n",
      "epoch : 1, train loss : 0.4282, valid loss : 0.1785, valid acc : 94.88%\n",
      "0 / 50000\n",
      "12800 / 50000\n",
      "25600 / 50000\n",
      "38400 / 50000\n",
      "epoch : 2, train loss : 0.1682, valid loss : 0.1178, valid acc : 96.39%\n",
      "0 / 50000\n",
      "12800 / 50000\n",
      "25600 / 50000\n",
      "38400 / 50000\n",
      "epoch : 3, train loss : 0.1182, valid loss : 0.1012, valid acc : 96.80%\n",
      "0 / 50000\n",
      "12800 / 50000\n",
      "25600 / 50000\n",
      "38400 / 50000\n",
      "epoch : 4, train loss : 0.0963, valid loss : 0.0819, valid acc : 97.40%\n",
      "0 / 50000\n",
      "12800 / 50000\n",
      "25600 / 50000\n",
      "38400 / 50000\n",
      "epoch : 5, train loss : 0.0808, valid loss : 0.0742, valid acc : 97.76%\n",
      "0 / 50000\n",
      "12800 / 50000\n",
      "25600 / 50000\n",
      "38400 / 50000\n",
      "epoch : 6, train loss : 0.0702, valid loss : 0.0722, valid acc : 97.97%\n",
      "0 / 50000\n",
      "12800 / 50000\n",
      "25600 / 50000\n",
      "38400 / 50000\n",
      "epoch : 7, train loss : 0.0641, valid loss : 0.0700, valid acc : 97.80%\n",
      "0 / 50000\n",
      "12800 / 50000\n",
      "25600 / 50000\n",
      "38400 / 50000\n",
      "epoch : 8, train loss : 0.0574, valid loss : 0.0692, valid acc : 97.91%\n",
      "0 / 50000\n",
      "12800 / 50000\n",
      "25600 / 50000\n",
      "38400 / 50000\n",
      "epoch : 9, train loss : 0.0492, valid loss : 0.0699, valid acc : 98.05%\n",
      "0 / 50000\n",
      "12800 / 50000\n",
      "25600 / 50000\n",
      "38400 / 50000\n",
      "epoch : 10, train loss : 0.0480, valid loss : 0.0651, valid acc : 98.11%\n",
      "0 / 50000\n",
      "12800 / 50000\n",
      "25600 / 50000\n",
      "38400 / 50000\n",
      "epoch : 11, train loss : 0.0422, valid loss : 0.0719, valid acc : 98.04%\n",
      "0 / 50000\n",
      "12800 / 50000\n",
      "25600 / 50000\n",
      "38400 / 50000\n",
      "epoch : 12, train loss : 0.0387, valid loss : 0.0668, valid acc : 98.09%\n",
      "0 / 50000\n",
      "12800 / 50000\n",
      "25600 / 50000\n",
      "38400 / 50000\n",
      "epoch : 13, train loss : 0.0372, valid loss : 0.0701, valid acc : 98.06%\n",
      "0 / 50000\n",
      "12800 / 50000\n",
      "25600 / 50000\n",
      "38400 / 50000\n",
      "epoch : 14, train loss : 0.0338, valid loss : 0.0609, valid acc : 98.27%\n",
      "0 / 50000\n",
      "12800 / 50000\n",
      "25600 / 50000\n",
      "38400 / 50000\n",
      "epoch : 15, train loss : 0.0338, valid loss : 0.0681, valid acc : 98.12%\n"
     ]
    }
   ],
   "source": [
    "#Define the training + validation loops\n",
    "mean_train_losses = []\n",
    "mean_valid_losses = []\n",
    "valid_acc_list = []\n",
    "epochs = 15\n",
    "\n",
    "for epoch in range(epochs):\n",
    "    model.train()\n",
    "    \n",
    "    train_losses = []\n",
    "    valid_losses = []\n",
    "    for i, (images, labels) in enumerate(train_loader):\n",
    "        \n",
    "        optimizer.zero_grad()\n",
    "        \n",
    "        outputs = model(images)\n",
    "        loss = loss_fn(outputs, labels)\n",
    "        loss.backward()\n",
    "        optimizer.step()\n",
    "        \n",
    "        train_losses.append(loss.item())\n",
    "        \n",
    "        if (i * 128) % (128 * 100) == 0:\n",
    "            print(f'{i * 128} / 50000')\n",
    "            \n",
    "    model.eval()\n",
    "    correct = 0\n",
    "    total = 0\n",
    "    with torch.no_grad():\n",
    "        for i, (images, labels) in enumerate(valid_loader):\n",
    "            outputs = model(images)\n",
    "            loss = loss_fn(outputs, labels)\n",
    "\n",
    "            valid_losses.append(loss.item())\n",
    "            \n",
    "            _, predicted = torch.max(outputs.data, 1)\n",
    "            correct += (predicted == labels).sum().item()\n",
    "            total += labels.size(0)\n",
    "            \n",
    "    mean_train_losses.append(np.mean(train_losses))\n",
    "    mean_valid_losses.append(np.mean(valid_losses))\n",
    "    \n",
    "    accuracy = 100*correct/total\n",
    "    valid_acc_list.append(accuracy)\n",
    "    print('epoch : {}, train loss : {:.4f}, valid loss : {:.4f}, valid acc : {:.2f}%'\\\n",
    "         .format(epoch+1, np.mean(train_losses), np.mean(valid_losses), accuracy))\n",
    "\n"
   ]
  },
  {
   "cell_type": "code",
   "execution_count": 11,
   "metadata": {},
   "outputs": [
    {
     "data": {
      "text/plain": [
       "<matplotlib.legend.Legend at 0x7fbbd0c8b2b0>"
      ]
     },
     "execution_count": 11,
     "metadata": {},
     "output_type": "execute_result"
    },
    {
     "data": {
      "image/png": "[encoded data removed]",
      "text/plain": [
       "<Figure size 1000x500 with 2 Axes>"
      ]
     },
     "metadata": {},
     "output_type": "display_data"
    }
   ],
   "source": [
    "fig, (ax1, ax2) = plt.subplots(nrows=1, ncols=2, figsize=(10, 5))\n",
    "ax1.plot(mean_train_losses, label='train')\n",
    "ax1.plot(mean_valid_losses, label='valid')\n",
    "lines, labels = ax1.get_legend_handles_labels()\n",
    "ax1.legend(lines, labels, loc='best')\n",
    "\n",
    "ax2.plot(valid_acc_list, label='valid acc')\n",
    "ax2.legend()\n",
    "# plt.savefig(path + \"/losses\")\n",
    "\n"
   ]
  },
  {
   "cell_type": "code",
   "execution_count": 12,
   "metadata": {},
   "outputs": [
    {
     "name": "stdout",
     "output_type": "stream",
     "text": [
      "test loss : 0.0714, test acc : 97.95%\n"
     ]
    }
   ],
   "source": [
    "mean_test_losses = []\n",
    "valid_test_list = []\n",
    "test_losses = []\n",
    "\n",
    "model.eval()\n",
    "correct = 0\n",
    "total = 0\n",
    "with torch.no_grad():\n",
    "    for i, (images, labels) in enumerate(test_loader):\n",
    "        outputs = model(images)\n",
    "        loss = loss_fn(outputs, labels)\n",
    "\n",
    "        test_losses.append(loss.item())\n",
    "        \n",
    "        _, predicted = torch.max(outputs.data, 1)\n",
    "        correct += (predicted == labels).sum().item()\n",
    "        total += labels.size(0)\n",
    "        \n",
    "\n",
    "mean_test_losses.append(np.mean(test_losses))\n",
    "\n",
    "accuracy = 100*correct/total\n",
    "valid_test_list.append(accuracy)\n",
    "print('test loss : {:.4f}, test acc : {:.2f}%'\\\n",
    "        .format(np.mean(test_losses), accuracy))"
   ]
  },
  {
   "cell_type": "code",
   "execution_count": null,
   "metadata": {},
   "outputs": [],
   "source": []
  }
 ],
 "metadata": {
  "kernelspec": {
   "display_name": "Python 3.10.8 ('fed-cl-req')",
   "language": "python",
   "name": "python3"
  },
  "language_info": {
   "codemirror_mode": {
    "name": "ipython",
    "version": 3
   },
   "file_extension": ".py",
   "mimetype": "text/x-python",
   "name": "python",
   "nbconvert_exporter": "python",
   "pygments_lexer": "ipython3",
   "version": "3.10.8"
  },
  "orig_nbformat": 4,
  "vscode": {
   "interpreter": {
    "hash": "baf0f7b767fca9168049f46cc897bb3f071d816f9064c28d8131bee0252313b3"
   }
  }
 },
 "nbformat": 4,
 "nbformat_minor": 2
}
